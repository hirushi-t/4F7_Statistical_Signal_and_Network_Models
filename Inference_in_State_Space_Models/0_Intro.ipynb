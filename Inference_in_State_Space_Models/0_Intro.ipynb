{
 "cells": [
  {
   "cell_type": "markdown",
   "metadata": {
    "vscode": {
     "languageId": "plaintext"
    }
   },
   "source": [
    "# **Overview**"
   ]
  },
  {
   "cell_type": "markdown",
   "metadata": {},
   "source": [
    "Many real-world problems involve datasets that evolve sequentially over time, such as **tracking**, **computer vision**, **speech and audio**, **financial time series** and **robotics**. In these applications, new data is arriving continously, requiring models and algorithms that can update probability distributions in a Bayesian manner. In many applications, we want to estimate a latent variable or process from noisy, convolved or non-linearly distorted observations. Since data arrives sequentially in many applications, it is desirable to estimate the hidden process on-line, in order to avoid memory storage of huge datasets and to make inferences and decisions in real time. Some typical applications include **real-time enhancement of speech and audio signals** and **medical monitoring of patient EEG/ECG signals**."
   ]
  },
  {
   "cell_type": "markdown",
   "metadata": {},
   "source": [
    "We will be looking at **sequential inference**. Only when the system is linear and Gaussian, or in the form of a Hidden Markov Model (HMM) can we perform exact estimation, using the Kalman filter of HMM filter. WIn most applications, there are elements of non-Gaussianiy and/or non-linearity which make analytical computations impossible. Here, we need to use numerical strategies, for example linearisation techniques like the Extended Kalman Filter. We will aldo look at a class of Sequential Monte Carlo filters, known generically as particle filters, which are well-adapted to general problems in this category."
   ]
  },
  {
   "cell_type": "markdown",
   "metadata": {},
   "source": [
    "### Recommended Textbooks  \n",
    "\n",
    "- **Särkkä, S., & Svensson, L.** (2023). *Bayesian Filtering and Smoothing* (2nd ed.). Cambridge University Press.  \n",
    "  - Covers and supplements all 8 lectures. Freely available online.  \n",
    "\n",
    "- **Cappé, O., Moulines, E., & Rydén, T.** (2005). *Inference in Hidden Markov Models.* Springer Series in Statistics, Springer, New York.  \n",
    "  - Covers the entire course and includes more advanced material.  \n",
    "\n",
    "- **Harvey, A. C.** (1990). *Forecasting, Structural Time Series Models and the Kalman Filter.* Cambridge University Press.  \n",
    "  - An advanced text on Kalman Filters and state-space models.  \n",
    "\n",
    "- **Chopin, N., & Papaspiliopoulos, O.** (2021). *An Introduction to Sequential Monte Carlo.*  \n",
    "  - An advanced introduction to particle filters.  \n"
   ]
  }
 ],
 "metadata": {
  "kernelspec": {
   "display_name": "base",
   "language": "python",
   "name": "python3"
  },
  "language_info": {
   "name": "python",
   "version": "3.9.19"
  }
 },
 "nbformat": 4,
 "nbformat_minor": 2
}
