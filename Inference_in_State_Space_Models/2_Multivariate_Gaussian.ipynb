{
 "cells": [
  {
   "cell_type": "markdown",
   "metadata": {},
   "source": [
    "# **The Multivariate Gaussian**"
   ]
  },
  {
   "cell_type": "markdown",
   "metadata": {},
   "source": [
    "The univariate normal distribution can be generalised to a d-dimensional space. The multivariate Gaussian distribution is used widely in statistics, machine learning, and Bayesian inference. The multivariate Gaussian distributionis defined by its **mean vector** and the **covariance matrix**."
   ]
  },
  {
   "cell_type": "markdown",
   "metadata": {},
   "source": [
    "$$\n",
    "p(\\mathbf{x}) = \\frac{1}{(2\\pi)^{d/2} |\\boldsymbol{\\Sigma}|^{1/2}} \n",
    "\\exp \\left( -\\frac{1}{2} (\\mathbf{x} - \\boldsymbol{\\mu})^T \\boldsymbol{\\Sigma}^{-1} (\\mathbf{x} - \\boldsymbol{\\mu}) \\right)\n",
    "$$"
   ]
  },
  {
   "cell_type": "markdown",
   "metadata": {},
   "source": [
    "where,\n",
    "- $ \\mathbf{x} \\in \\mathbb{R}^d$ : the d-dimensional random vector\n",
    "- $\\boldsymbol{\\mu} \\in \\mathbb{R}^d$ : mean vector\n",
    "    - $\\mathbf{\\mu} = E[x]$\n",
    "- $\\boldsymbol{\\Sigma} \\in \\mathbb{R}^{d \\times d}$ : covariance matrix\n",
    "    - $\\boldsymbol{\\Sigma} = E[(\\mathbf{x} - \\mathbf{\\mu})(\\mathbf{x} - \\mathbf{\\mu})^T]$\n",
    "    - The covariance between the $i^{th}$ and $j^{th}$ elements of $\\mathbf{x}$ is $[\\boldsymbol{\\Sigma}]_{ij} = E[(x_i - \\mu_i)(x_j - \\mu_j)]$"
   ]
  },
  {
   "cell_type": "markdown",
   "metadata": {},
   "source": [
    "### **How to sample from a multivariate Gaussian?**"
   ]
  },
  {
   "cell_type": "markdown",
   "metadata": {},
   "source": [
    "Suppose we have a vector of samples from an N-dimensional standard normal distribution. This is easy to generate with standard number generators because elements of the sampled vector are not correlated.\n",
    "\n",
    "$$\n",
    "u \\sim \\mathcal{N} (0, I)\n",
    "$$\n",
    "\n",
    "$$\n",
    "p(u) \\propto \\exp{(-0.5u^Tu)}\n",
    "$$\n",
    "\n",
    "Now let's take a matrix linear function of $u$:\n",
    "\n",
    "$$\n",
    "x = Mu + \\mathbf{\\mu}\n",
    "$$\n",
    "\n",
    "whose Jacobian matrix is\n",
    "\n",
    "$$\n",
    "J = \\frac{dx}{du} = M\n",
    "$$\n",
    "\n",
    "where M is an invertible matrix, so we can write the inverse mapping:\n",
    "\n",
    "$$\n",
    "u = M^{-1} (x - \\mathbf{\\mu})\n",
    "$$\n",
    "\n",
    "We can use the vector change of variable formula to calculate the distribution of $x$. When we do this, we see that it gives a multivariate Gaussian with mean $\\mathbf{\\mu}$ and covariance matrix $MM^T$.\n",
    "\n",
    "So, the recipe to sample from a multivariate Gaussian is:\n",
    "1) Compute an M such that $\\mathbf{\\Sigma} = MM^T$ (using Cholesky decomposition)\n",
    "2) Sample an N-dimensional vector $\\mu \\sim \\mathcal{N} (0, I)$\n",
    "3) Compute $x = Mu + \\mathbf{\\mu}$\n",
    "4) $x$ is a random sample from $N(\\mathbf{\\mu}, \\mathbf{\\Sigma})$\n"
   ]
  },
  {
   "cell_type": "code",
   "execution_count": 35,
   "metadata": {},
   "outputs": [
    {
     "name": "stdout",
     "output_type": "stream",
     "text": [
      " Check: \n",
      " [[  4.  12. -16.]\n",
      " [ 12.  37. -43.]\n",
      " [-16. -43.  98.]]\n",
      "Sample from multivariate Standard Normal:\n",
      " [[-2.72924271]\n",
      " [ 0.45730286]\n",
      " [-0.39154607]]\n",
      "Sample from multivariate Gaussian with mean mu and covariance matrix sigma:\n",
      " [[ -4.45848542]\n",
      " [-14.91815342]\n",
      " [ 24.94581777]]\n"
     ]
    }
   ],
   "source": [
    "import numpy as np\n",
    "\n",
    "sigma = np.array([[4, 12, -16],\n",
    "                  [12, 37, -43],\n",
    "                  [-16, -43, 98]])\n",
    "\n",
    "mu = np.array([1, 1, 2]).T\n",
    "mu = np.reshape(mu, [3,1]) \n",
    "\n",
    "M = np.linalg.cholesky(sigma)\n",
    "\n",
    "# Check sigma = MM^T\n",
    "print(f' Check: \\n {M @ np.transpose(M)}')\n",
    "\n",
    "u = np.random.normal(size=(3,1))\n",
    "print(f'Sample from multivariate Standard Normal:\\n {u}')\n",
    "\n",
    "x = M @ u + mu\n",
    "\n",
    "print(f'Sample from multivariate Gaussian with mean mu and covariance matrix sigma:\\n {x}')\n",
    "\n"
   ]
  }
 ],
 "metadata": {
  "kernelspec": {
   "display_name": "base",
   "language": "python",
   "name": "python3"
  },
  "language_info": {
   "codemirror_mode": {
    "name": "ipython",
    "version": 3
   },
   "file_extension": ".py",
   "mimetype": "text/x-python",
   "name": "python",
   "nbconvert_exporter": "python",
   "pygments_lexer": "ipython3",
   "version": "3.9.19"
  }
 },
 "nbformat": 4,
 "nbformat_minor": 2
}
