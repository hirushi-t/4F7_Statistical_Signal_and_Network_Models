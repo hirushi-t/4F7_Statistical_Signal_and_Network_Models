{
 "cells": [
  {
   "cell_type": "markdown",
   "metadata": {},
   "source": [
    "# **Linear Gaussian Model- the Kalman filters**"
   ]
  },
  {
   "cell_type": "markdown",
   "metadata": {},
   "source": [
    "When the state space model is linear and Gaussian, the classic Kalman filter can be applied.\n",
    "\n",
    "The **state evolution density** is:\n",
    "$$\n",
    "f(x_t | x_{t-1}) = \\mathcal{N} (x_{t+1} | A x_t, \\Sigma_v)\n",
    "$$\n",
    "\n",
    "The **observation density** is:\n",
    "$$\n",
    "g(y_t | x_t) = \\mathcal{N} (y_t | Bx_t, \\Sigma_w)\n",
    "$$\n",
    "\n",
    "where the state is N-dimensional, and the observations are M-dimensional.\n",
    "\n",
    "We can also write this like so:\n",
    "\\begin{align*}\n",
    "x_t &= Ax_{t-1} + v_t \\\\\n",
    "y_t &= Bx_t + w_t\n",
    "\\end{align*}\n",
    "\n",
    "where $v_t$ and $w_t$ are zero mean Gaussian vectors with covariance matrices $\\Sigma_v$ annd $\\Sigma_w$ respectively.\n",
    "\n",
    "We also require the initial state to be Gaussian."
   ]
  },
  {
   "cell_type": "markdown",
   "metadata": {},
   "source": [
    "Let's remind ourselves of the **prediction** equation:\n",
    "\\begin{align*}\n",
    "p(x_{t+1} | y_{1:t}) &= \\int p(x_t | y_{1:t}) f(x_{t+1}|x_t) dx_t\n",
    "\\end{align*}\n",
    "\n",
    "The equation for **filtering** using the above prediction equation and Bayes' theorem is:\n",
    "\n",
    "\\begin{align*}\n",
    "p(x_{t+1} | y_{1: t+1}) &= \\frac{g(y_{t+1}|x_{t+1}) p(x_{t+1}|y_{1:t})}{p(y_{t+1} | y_{1:t})}\n",
    "\\end{align*}\n",
    "\n",
    "\n"
   ]
  },
  {
   "cell_type": "markdown",
   "metadata": {},
   "source": [
    "### Constant Level in Noise \n",
    "Let's consider the scalar state $x_t \\in \\mathbb{R}$.\n",
    "\\begin{align*}\n",
    "x_t = x_{t-1} \\\\\n",
    "y_t = x_t + w_t\n",
    "\\end{align*}\n",
    "\n",
    "Therefore, $A = 1, B=1, \\Sigma_v = 0, f(x_0) = \\mathcal{N}(\\mu_0, \\sigma_0^2)$."
   ]
  },
  {
   "cell_type": "markdown",
   "metadata": {},
   "source": []
  },
  {
   "cell_type": "markdown",
   "metadata": {
    "vscode": {
     "languageId": "plaintext"
    }
   },
   "source": [
    "### Random Walk in Noise\n",
    "Scalar state $x_t \\in \\mathbb{R}$,\n",
    "\\begin{align*}\n",
    "x_t &= x_{t-1} + v_t \\\\\n",
    "y_t &= x_t + w_t\n",
    "\\end{align*}\n",
    "\n",
    "Therefore, $A = 1, B=1, f(x_0) = \\mathcal{N}(\\mu_0, \\sigma_0^2)$."
   ]
  },
  {
   "cell_type": "code",
   "execution_count": null,
   "metadata": {
    "vscode": {
     "languageId": "plaintext"
    }
   },
   "outputs": [],
   "source": []
  }
 ],
 "metadata": {
  "kernelspec": {
   "display_name": "base",
   "language": "python",
   "name": "python3"
  },
  "language_info": {
   "name": "python",
   "version": "3.9.19"
  }
 },
 "nbformat": 4,
 "nbformat_minor": 2
}
