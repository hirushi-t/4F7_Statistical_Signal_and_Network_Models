{
 "cells": [
  {
   "cell_type": "markdown",
   "metadata": {},
   "source": [
    "# **Continous Time Models**"
   ]
  },
  {
   "cell_type": "markdown",
   "metadata": {},
   "source": [
    "### **Stochastic Differential Equation**\n",
    "SDE is a differential equation that includes a **stochastic (random) compononent**, typically modelled using **Wiener processes (Brownian motion).**\n",
    "\n",
    "General form of an SDE:\n",
    "$$\n",
    "dX_t = f(X_t, t) dt + g(X_t, t) dW_t\n",
    "$$\n",
    "\n",
    "where,\n",
    "- $X_t$ is the sate variable (random process)\n",
    "- f(X_t, t) is the drift term, desc BLAH BLAH BLAH"
   ]
  },
  {
   "cell_type": "markdown",
   "metadata": {},
   "source": []
  }
 ],
 "metadata": {
  "kernelspec": {
   "display_name": "base",
   "language": "python",
   "name": "python3"
  },
  "language_info": {
   "name": "python",
   "version": "3.9.19"
  }
 },
 "nbformat": 4,
 "nbformat_minor": 2
}
