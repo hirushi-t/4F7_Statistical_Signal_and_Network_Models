{
 "cells": [
  {
   "cell_type": "markdown",
   "metadata": {},
   "source": [
    "# **Continous Time Models**"
   ]
  },
  {
   "cell_type": "markdown",
   "metadata": {},
   "source": [
    "### **Stochastic Differential Equation**\n",
    "SDE is a differential equation that includes a **stochastic (random) compononent**, typically modelled using **Wiener processes (Brownian motion).**\n",
    "\n",
    "The **Ornstein-Uhlenbeck (OU) model** is common in finance and econometrics:\n",
    "\n",
    "$$\n",
    "\\overset{.}{x}(t) = \\rho x(t) + b W(t)\n",
    "$$\n",
    "\n",
    "where,\n",
    "- $\\rho \\le 0$\n",
    "- $W(t)$ is continous time Gaussian white noise with zero mean and autocorrelation function $R_{WW}(\\tau) = \\sigma_W^2 \\delta(\\tau)$. We can see that $W(t)$ is a WSS signal, therefore we can compute its power using by computing the autocorrelation function at $\\tau = 0$.\n"
   ]
  },
  {
   "cell_type": "markdown",
   "metadata": {},
   "source": [
    "## Recap\n",
    "\n",
    "Note, autocorrelation is the relationship of a functions and a delayed copy of itself. It is the similarity between observations of a random variable as a function of the time lag between them.\n",
    "\n",
    "$$\n",
    "R_{XX}(t_1, t_2) = E[x_{t_1} x_{t_2}^*]\n",
    "$$\n",
    "\n",
    "Also, for real-valued functions, $E[x] = E[x^*]$ because the complex conjugate of x is just x.\n",
    "\n",
    "\n",
    "Definition of **WSS signals**:\n",
    "- Mean and variance are time-independent\n",
    "- Autocovariance function depends only on the lag between $t_1$ and $t_2$.\n",
    "\n",
    "Therefore, the autocorrelation function for WSS signals is:\n",
    "$$\n",
    "R_X(\\tau) = E[x(t) x^*(t+\\tau)]\n",
    "$$\n",
    "\n",
    "\n",
    "Definition of **average power**:\n",
    "$$\n",
    "P_x = \\lim_{T \\to \\infty} \\frac{1}{T} \\int_{-T/2}^{T/2} |x(t)|^2 dt\n",
    "$$\n",
    "\n",
    "\n",
    "Definition of **ergodic**:\n",
    "\n",
    "A random process is ergodic if its time averages are equal to its statistical averages. Note, all ergodic processes are stationary but not all stationary processes are ergodic.\n",
    "\n",
    "\n",
    "**Power of an Ergodic Stationary Signal**\n",
    "\n",
    "For ergodic, stationary sigals, the power by computing the autocorrelation function at zero lag:\n",
    "\n",
    "$$\n",
    "P_x = R_{XX}(0)\n",
    "$$\n",
    "\n",
    "Note, the reason we can do this is because stationarity ensures the statistical properties of the function does not change over time, and ergodocity means that time averages are equal to ensemble (statistical) averages."
   ]
  },
  {
   "cell_type": "markdown",
   "metadata": {},
   "source": [
    "## Back to SDEs\n",
    "W(t) is continous time, zero mean Gaussian white noise. It is a WSS signal with autocorrelation function $R_{WW}(\\tau) = \\sigma_W^2 \\delta(\\tau)$. Here is a plot:\n",
    "\n",
    "\n",
    "<div style=\"text-align: center;\">\n",
    "    <img src=\"images/zero_mean_white_noise_plot.png\" width=\"300\" height=\"200\">\n",
    "</div>\n",
    "\n",
    "$W(t)$ is not well defined at any given time. We usually define it using **Brownian motion**, which is the **integral of white noise**.\n",
    "\n",
    "$$\n",
    "B(t) = \\int_{0}^t W(\\tau) d\\tau\n",
    "$$\n",
    "\n",
    "Since $B(t)$ is a linear function of $w(t)$, **Brownian motion** follows a **Gaussian distribution**. Addtionally, it has **zero mean** because we are considering zero mean white noise.\n",
    "\n",
    "\\begin{align*}\n",
    "E[B(t)] &= E \\left [\\int_{0}^t W(\\tau) d\\tau \\right] \\\\\n",
    "&= \\int_{0}^t E[W(\\tau)] d\\tau \\\\\n",
    "&= 0\n",
    "\\end{align*}\n",
    "\n",
    "Now, let's compute the variance:\n",
    "\\begin{align*}\n",
    "E[B(t)^2] &= E \\left [\\int_{0}^t W(\\tau) d\\tau [\\int_{0}^t W(\\tau') d\\tau' \\right] \\\\\n",
    "&= \\int_{0}^t \\int_{0}^t E[W(\\tau) W(\\tau')] d\\tau d\\tau' \\\\\n",
    "&= \\int_{0}^t \\int_{0}^t R_{WW}(\\tau - \\tau') d\\tau d\\tau' \\\\\n",
    "&= \\sigma_W^2 \\int_{0}^t \\int_{0}^t \\delta(\\tau - \\tau') d\\tau d\\tau' \\\\\n",
    "&= \\sigma_W^2 \\int_0^t d\\tau \\\\\n",
    "&= t \\sigma_W^2\n",
    "\\end{align*}\n",
    "\n",
    "So, we have derived the distribution of Brownian motion:\n",
    "$$\n",
    "B(t) \\sim \\mathcal{N} (0, t \\sigma_W^2)\n",
    "$$\n",
    "\n",
    "We can we rewrite the **Ornstein-Uhlenbeck (OU) model** with Brownian motion (the integral of white noise). We will write the SDE in increment form:\n",
    "\n",
    "$$\n",
    "dx(t) = \\rho x(t) dt + bdB(t)\n",
    "$$"
   ]
  },
  {
   "cell_type": "code",
   "execution_count": null,
   "metadata": {},
   "outputs": [],
   "source": []
  }
 ],
 "metadata": {
  "kernelspec": {
   "display_name": "base",
   "language": "python",
   "name": "python3"
  },
  "language_info": {
   "name": "python",
   "version": "3.9.19"
  }
 },
 "nbformat": 4,
 "nbformat_minor": 2
}
