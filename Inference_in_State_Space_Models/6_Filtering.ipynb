{
 "cells": [
  {
   "cell_type": "markdown",
   "metadata": {},
   "source": [
    "# **Filtering**"
   ]
  },
  {
   "cell_type": "markdown",
   "metadata": {},
   "source": [
    "At time $t$, suppose we have $p(x_t | y_{1:t})$ but want to find $p(x_{t+1} | y_{1:t+1})$.\n",
    "\n",
    "Let's first predict the next state:\n",
    "\\begin{align*}\n",
    "p(x_{t+1} | y_{1:t}) &= \\int p(x_t, x_{t+1} | y_{1:t}) dx_t \\\\\n",
    "&= \\int p(x_t | y_{1:t}) p(x_{t+1}|x_t, y_{1:t}) dx_t \\\\\n",
    "&= \\int p(x_t | y_{1:t}) f(x_{t+1}|x_t) dx_t\n",
    "\\end{align*}\n",
    "\n",
    "This is known as the **Chapman-Kolmogorov equation for filtering**.\n",
    "\n",
    "Next, is the correction step using Bayes' theorem:\n",
    "\\begin{align*}\n",
    "p(x_{t+1} | y_{1: t+1}) &= \\frac{p(y_{t+1}|x_{t+1}, y_{1:t}) p(x_{t+1}|y_{1:t})}{p(y_{t+1} | y_{1:t})} \\\\\n",
    "&= \\frac{g(y_{t+1}|x_{t+1}) p(x_{t+1}|y_{1:t})}{p(y_{t+1} | y_{1:t})}\n",
    "\\end{align*}\n",
    "\n",
    "This is what the sequential scheme looks like:\n",
    "\n",
    "$$\n",
    "\\begin{array}{c|ccccc}\n",
    "\\hline\n",
    "\\textbf{Time} & t-1 & t & t & t+1 & t+1 \\\\\n",
    "\\textbf{Data} & y_{t-1} &  & y_t &  & y_{t+1} \\\\\n",
    "\\hline\n",
    "\\textbf{Filtering} & p(x_{t-1} \\mid y_{1:t-1}) &  & p(x_t \\mid y_{1:t}) &  & p(x_{t+1} \\mid y_{1:t+1}) \\\\\n",
    "\\textbf{Prediction} &  & p(x_t \\mid y_{1:t-1}) &  & p(x_{t+1} \\mid y_{1:t}) &  \\\\\n",
    "\\hline\n",
    "\\end{array}\n",
    "$$\n",
    "\n",
    "**Filtering** refers to updating the belief or distribution about the current state of the system using both past and current data.\n",
    "\n",
    "**Prediction** refers to estimating the state at a future time step without using future observations.\n",
    "\n",
    "Generally, the integral above is intractable and aproximatios must be used. In the linear Gaussian case however, we have a closed form filtering result (the Kalman filter!)\n"
   ]
  },
  {
   "cell_type": "markdown",
   "metadata": {},
   "source": []
  }
 ],
 "metadata": {
  "language_info": {
   "name": "python"
  }
 },
 "nbformat": 4,
 "nbformat_minor": 2
}
