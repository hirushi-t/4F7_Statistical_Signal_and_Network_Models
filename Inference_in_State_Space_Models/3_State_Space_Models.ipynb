{
 "cells": [
  {
   "cell_type": "markdown",
   "metadata": {},
   "source": [
    "# **State Space Models**"
   ]
  },
  {
   "cell_type": "markdown",
   "metadata": {},
   "source": [
    "A state space model is a framework that describes a system's dynamics, where the system's state evolves over time and is observed through noisy measurements. We will focus here on a broad and general class of models. Examples include time series models (AR, MA, ARMA), and HMMs. \n",
    "\n",
    "The state space model is a general class of time series models. Most practical models can be represented within this category, using a state vector of finite dimensions. The sequential inference methods presented can readily be extended beyond the Markovian state space models given here, but for simplicity we will be only looking at the standard Markovian setup.\n",
    "\n",
    "*From now on, column vectors are denotes using standard typeface (e.g. $x$), and matrices are denoted by capitals (e.g. B)*\n",
    "\n",
    "Consider a time series with states $x_t \\in $ "
   ]
  },
  {
   "cell_type": "markdown",
   "metadata": {},
   "source": []
  }
 ],
 "metadata": {
  "kernelspec": {
   "display_name": "base",
   "language": "python",
   "name": "python3"
  },
  "language_info": {
   "name": "python",
   "version": "3.9.19"
  }
 },
 "nbformat": 4,
 "nbformat_minor": 2
}
