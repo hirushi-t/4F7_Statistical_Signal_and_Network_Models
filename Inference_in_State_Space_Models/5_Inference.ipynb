{
 "cells": [
  {
   "cell_type": "markdown",
   "metadata": {},
   "source": [
    "# **Inference**"
   ]
  },
  {
   "cell_type": "markdown",
   "metadata": {},
   "source": [
    "Given observed data up to time t:\n",
    "$$\n",
    "y_{1:t} = (y_1, y_2, ..., y_t)\n",
    "$$\n",
    "\n",
    "Wish to infer the hidden states:\n",
    "$$\n",
    "x_{0:t} = (x_0, x_1, ..., x_t)\n",
    "$$"
   ]
  },
  {
   "cell_type": "markdown",
   "metadata": {},
   "source": [
    "### **Filtering**\n",
    "We may wish to obtain the **filtering distribution:**\n",
    "$$\n",
    "p(x_t | y_{1:t})\n",
    "$$\n",
    "This is the posterior distribution of a hidden state $x_t$, at a time $t$, given all observations up to that time $y_{1:t}$.\n",
    "\n",
    "We may also want the **expected value of a function $h(x_t)$  under the filtering distribution**:\n",
    "\n",
    "$$\n",
    "h = E[h(x_t)] = \\int h(x_t) p(x_t | y_{1:t}) dx_t\n",
    "$$"
   ]
  },
  {
   "cell_type": "markdown",
   "metadata": {},
   "source": [
    "### **Smoothing ('fixed interval')**\n",
    "We may want to estimate the entire state sequence given all the data:\n",
    "$$\n",
    "p(x_{0:T} | y_{1:T})\n",
    "$$\n",
    "\n",
    "### **Smoothing ('fixed lag', for L > 0)**\n",
    "Fixed-lag smoothing is where we estimate a past state $x_{t-L}$ using all observations up to the current time $y_{1:t}$. The expression for this distribution is:\n",
    "$$\n",
    "p(x_{t-L} | y_{1:t})\n",
    "$$\n",
    "\n",
    "*Note, we will go into more detail about these in the following notebooks...*"
   ]
  },
  {
   "cell_type": "markdown",
   "metadata": {},
   "source": []
  }
 ],
 "metadata": {
  "kernelspec": {
   "display_name": "base",
   "language": "python",
   "name": "python3"
  },
  "language_info": {
   "name": "python",
   "version": "3.9.19"
  }
 },
 "nbformat": 4,
 "nbformat_minor": 2
}
